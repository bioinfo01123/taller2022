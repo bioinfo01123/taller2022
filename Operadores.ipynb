{
 "cells": [
  {
   "cell_type": "markdown",
   "metadata": {},
   "source": []
  },
  {
   "cell_type": "code",
   "execution_count": null,
   "metadata": {},
   "outputs": [],
   "source": []
  },
  {
   "cell_type": "markdown",
   "metadata": {},
   "source": [
    "## Funciones integradas\n",
    "\n",
    "|Función|Descripción|\n",
    "|---|---|\n",
    "|`set()`|Devuelve un conjunto|\n",
    "|`dict()`|Devuelve un diccionario|\n",
    "|`help()`|Da información sobre módulos|\n",
    "|`min()`|Devuelve el valor mínimo de una lista, arreglo o Dataframe|\n",
    "|`dir()`|Devuelve las variables definidas|\n",
    "|`enumerate()`|Enumera una lista empezando por cero|\n",
    "|`input()`|Función interactiva para ingresar valores|\n",
    "|`int()`|Devuelve núemros enteros|\n",
    "|`str()`|Devuelve un string o cadena de caracteres|\n",
    "|`sum()`|Suma los valores de una lista o arreglo|\n",
    "|`float()`|Devuelve un número de punto flotante|\n",
    "|`print()`|Imprimir una variable|\n",
    "|`tuple()`|Devuelve una tupla (una lista inmutable)|\n",
    "|`len()`|Devuelve la longitud de un objeto|\n",
    "|`type()`|Devuelve el tipo del objeto|\n",
    "|`list()`|Devuelve una lista|\n",
    "|`range()`|Devuelve un rango de números|\n",
    "|`zip()`|Vuelve iterables dos elementos iterables|\n",
    "|`reversed()`|Devuelve el reverso de una lista|\n",
    "|`max()`|Devuelve el valor máximo de una lista, arreglo o Dataframe|\n",
    "|`round()`|Redondea un número de punto flotante|"
   ]
  },
  {
   "cell_type": "code",
   "execution_count": null,
   "metadata": {},
   "outputs": [],
   "source": []
  },
  {
   "cell_type": "code",
   "execution_count": null,
   "metadata": {},
   "outputs": [],
   "source": []
  },
  {
   "cell_type": "code",
   "execution_count": null,
   "metadata": {},
   "outputs": [],
   "source": []
  },
  {
   "cell_type": "markdown",
   "metadata": {},
   "source": [
    "---\n",
    "# Operadores booleanos (operadores lógicos)\n",
    "\n",
    "### <font color = limegreen>Qué son y en qué casos los utilizamos</font> \n",
    "\n",
    "- Son palabras o símbolos que permiten conectar de forma lógica conceptos o grupos de términos para así ampliar, limitar o definir tus búsquedas rápidamente.\n",
    "- Los operadores son símbolos matemáticos que llevan a cabo operaciones específicas entre operandos (entradas).  \n",
    "- Se usan cuando quieres realizar operaciones matemáticas o comparaciones\n",
    "\n",
    "\n",
    "## <font color = blue>Operadores aritméticos</font>\n",
    "Suma `+`  \n",
    "Resta `-`  \n",
    "Negación `-`  \n",
    "Multiplicación `*`  \n",
    "Exponente `**`  \n",
    "División `/`\n",
    "---"
   ]
  },
  {
   "cell_type": "code",
   "execution_count": null,
   "metadata": {},
   "outputs": [],
   "source": []
  },
  {
   "cell_type": "markdown",
   "metadata": {},
   "source": [
    "## <font color = blue>Uso de operadores y operandos</font>"
   ]
  },
  {
   "cell_type": "code",
   "execution_count": null,
   "metadata": {},
   "outputs": [],
   "source": [
    "operando1 = 30\n",
    "operando2 = 20\n",
    "print(('Operando'), ('Operador'), ('operando'))"
   ]
  },
  {
   "cell_type": "code",
   "execution_count": null,
   "metadata": {},
   "outputs": [],
   "source": [
    "print((operando1), ('+'), (operando2))\n",
    "print(('resultado:'), (operando1 + operando2))"
   ]
  },
  {
   "cell_type": "code",
   "execution_count": null,
   "metadata": {},
   "outputs": [],
   "source": [
    "operando1 - operando2"
   ]
  },
  {
   "cell_type": "code",
   "execution_count": null,
   "metadata": {},
   "outputs": [],
   "source": [
    "operando1 * operando2"
   ]
  },
  {
   "cell_type": "code",
   "execution_count": null,
   "metadata": {},
   "outputs": [],
   "source": [
    "operando1 ** 2"
   ]
  },
  {
   "cell_type": "code",
   "execution_count": null,
   "metadata": {},
   "outputs": [],
   "source": [
    "operando1 / operando2"
   ]
  },
  {
   "cell_type": "code",
   "execution_count": null,
   "metadata": {},
   "outputs": [],
   "source": []
  },
  {
   "cell_type": "code",
   "execution_count": null,
   "metadata": {},
   "outputs": [],
   "source": [
    "# en este caso el signo + concatena cadenas de caracteres\n",
    "print(('Operando'), ('Operador'), ('operando'))\n",
    "Operando1 = 'atgacctcatta'\n",
    "Operando2 = 'ggcacagtttcga'\n",
    "\n",
    "print((Operando1), ('+'), (Operando2))\n",
    "print(('Secuencia final:'), (Operando1 + Operando2))"
   ]
  },
  {
   "cell_type": "code",
   "execution_count": null,
   "metadata": {},
   "outputs": [],
   "source": [
    "Operando1 * 2"
   ]
  },
  {
   "cell_type": "code",
   "execution_count": null,
   "metadata": {},
   "outputs": [],
   "source": []
  },
  {
   "cell_type": "code",
   "execution_count": null,
   "metadata": {},
   "outputs": [],
   "source": []
  },
  {
   "cell_type": "markdown",
   "metadata": {},
   "source": [
    "---\n",
    "## <font color = blue>Operadores relacionales y de asignación</font>\n",
    "Menor que `<`  \n",
    "Menor o igual que `<=`   \n",
    "Mayor que `>`  \n",
    "Mayor o igual que `>=`  \n",
    "Igual que `==`  \n",
    "No es igual `!=`   \n",
    "**Los resultados boleanos siempre devuelven `False` o `True`**   \n",
    "Asignación `=`  \n",
    "También están lo de asignación aumentada `+=` y `-=`, aplicada en iteraciones  \n",
    "---"
   ]
  },
  {
   "cell_type": "code",
   "execution_count": null,
   "metadata": {},
   "outputs": [],
   "source": [
    "print('operando1 =', operando1)\n",
    "print('operando2 =', operando2)"
   ]
  },
  {
   "cell_type": "code",
   "execution_count": null,
   "metadata": {},
   "outputs": [],
   "source": [
    "operando1 < operando2"
   ]
  },
  {
   "cell_type": "code",
   "execution_count": null,
   "metadata": {},
   "outputs": [],
   "source": [
    "operando1 <= operando2"
   ]
  },
  {
   "cell_type": "code",
   "execution_count": null,
   "metadata": {},
   "outputs": [],
   "source": [
    "operando1 <= operando2"
   ]
  },
  {
   "cell_type": "code",
   "execution_count": null,
   "metadata": {},
   "outputs": [],
   "source": [
    "operando1 > operando2"
   ]
  },
  {
   "cell_type": "code",
   "execution_count": null,
   "metadata": {},
   "outputs": [],
   "source": [
    "operando1 >= operando2 "
   ]
  },
  {
   "cell_type": "code",
   "execution_count": null,
   "metadata": {},
   "outputs": [],
   "source": [
    "operando1 == operando2"
   ]
  },
  {
   "cell_type": "code",
   "execution_count": null,
   "metadata": {},
   "outputs": [],
   "source": [
    "operando1 != operando2"
   ]
  },
  {
   "cell_type": "code",
   "execution_count": null,
   "metadata": {},
   "outputs": [],
   "source": [
    "# asignación aumentada\n",
    "n = 1\n",
    "o = -1\n",
    "for i in Operando1:\n",
    "    print(n, i, o)\n",
    "    n += 1\n",
    "    o -= 1"
   ]
  },
  {
   "cell_type": "code",
   "execution_count": null,
   "metadata": {},
   "outputs": [],
   "source": [
    "# uso del operador `==`\n",
    "for i in Operando1:\n",
    "    if i == 'a':\n",
    "        print(i, '= Adenina')\n",
    "    else:\n",
    "        print(i)\n"
   ]
  },
  {
   "cell_type": "code",
   "execution_count": null,
   "metadata": {},
   "outputs": [],
   "source": []
  },
  {
   "cell_type": "code",
   "execution_count": null,
   "metadata": {},
   "outputs": [],
   "source": []
  },
  {
   "cell_type": "markdown",
   "metadata": {},
   "source": [
    "---\n",
    "## <font color = blue>Operadores especiales</font>\n",
    "Si un elemento se encuentra dentro de otro `in`  \n",
    "Identidad de objeto `is`   \n",
    "Identidad de objeto negada `is not`   \n",
    "Devuelve verdadero sólo si se cumplen todas las condiciones: `and` (conjunción), se le conoce como `multiplicación lógica`       \n",
    "Devuelve verdadero si se cumple como mínimo una condición: `or` (disyunción), se le conoce como `suma lógica`   \n",
    "<img src=\"https://raw.githubusercontent.com/Bioinformatica2020/Anexos/master/operadores_logicos.jpg\" width = 80%> <br>\n",
    "**Los resultados booleanos siempre devuelven `False` o `True`**\n",
    "---"
   ]
  },
  {
   "cell_type": "code",
   "execution_count": null,
   "metadata": {},
   "outputs": [],
   "source": [
    "3 in [1,2,3,4,5,6]"
   ]
  },
  {
   "cell_type": "code",
   "execution_count": null,
   "metadata": {},
   "outputs": [],
   "source": [
    "3 not in [1,2,3,4,5,6]"
   ]
  },
  {
   "cell_type": "code",
   "execution_count": null,
   "metadata": {},
   "outputs": [],
   "source": [
    "4 is not 5"
   ]
  },
  {
   "cell_type": "code",
   "execution_count": null,
   "metadata": {},
   "outputs": [],
   "source": [
    "seq = 'atggaattcaccactaacgaagataatgggatggggggaattccatttgggttgggaattct'"
   ]
  },
  {
   "cell_type": "code",
   "execution_count": null,
   "metadata": {},
   "outputs": [],
   "source": [
    "'atg' in seq"
   ]
  },
  {
   "cell_type": "code",
   "execution_count": null,
   "metadata": {},
   "outputs": [],
   "source": [
    "'gaattc' in seq"
   ]
  },
  {
   "cell_type": "code",
   "execution_count": null,
   "metadata": {},
   "outputs": [],
   "source": [
    "'gaattc' not in seq"
   ]
  },
  {
   "cell_type": "code",
   "execution_count": null,
   "metadata": {},
   "outputs": [],
   "source": [
    "seq.count('gaattc')"
   ]
  },
  {
   "cell_type": "code",
   "execution_count": null,
   "metadata": {},
   "outputs": [],
   "source": []
  },
  {
   "cell_type": "code",
   "execution_count": null,
   "metadata": {},
   "outputs": [],
   "source": []
  },
  {
   "cell_type": "code",
   "execution_count": null,
   "metadata": {},
   "outputs": [],
   "source": []
  },
  {
   "cell_type": "code",
   "execution_count": null,
   "metadata": {},
   "outputs": [],
   "source": []
  },
  {
   "cell_type": "code",
   "execution_count": null,
   "metadata": {},
   "outputs": [],
   "source": []
  },
  {
   "cell_type": "code",
   "execution_count": null,
   "metadata": {},
   "outputs": [],
   "source": []
  },
  {
   "cell_type": "code",
   "execution_count": null,
   "metadata": {},
   "outputs": [],
   "source": []
  },
  {
   "cell_type": "code",
   "execution_count": null,
   "metadata": {},
   "outputs": [],
   "source": []
  },
  {
   "cell_type": "code",
   "execution_count": null,
   "metadata": {},
   "outputs": [],
   "source": []
  },
  {
   "cell_type": "markdown",
   "metadata": {},
   "source": [
    "## <font color = red>Ejercicio 1:</font>\n",
    "1. Copia todo el argumento de la figura 1 en una celda\n",
    "2. Define el valor de las variables `a`, `b` y `c` de tal forma que al correr la celda el argumento devuelva `True`\n",
    "3. Haz un desglose de cada comparación `(a operador b)` e imprime el resultado, debe coincidir con la imagen\n",
    "\n",
    "## <font color = red>Ejercicio 2:</font>\n",
    "1. Copia todo el argumento de la figura 2 en una celda\n",
    "2. Inserta las variables y operadores faltantes de tal forma que al correr la celda el argumento devuelva `False`  \n",
    "3. Haz un desglose de cada comparación `(a operador b)` e imprime el resultado, debe coincidir con la imagen\n",
    "\n",
    "<img src=\"https://raw.githubusercontent.com/Bioinformatica2020/Anexos/master/ejercicios_operadores_logicos.jpg\" width = 60%> <br>"
   ]
  },
  {
   "cell_type": "code",
   "execution_count": null,
   "metadata": {},
   "outputs": [],
   "source": []
  },
  {
   "cell_type": "code",
   "execution_count": null,
   "metadata": {},
   "outputs": [],
   "source": []
  }
 ],
 "metadata": {
  "kernelspec": {
   "display_name": "Python 3",
   "language": "python",
   "name": "python3"
  },
  "language_info": {
   "codemirror_mode": {
    "name": "ipython",
    "version": 3
   },
   "file_extension": ".py",
   "mimetype": "text/x-python",
   "name": "python",
   "nbconvert_exporter": "python",
   "pygments_lexer": "ipython3",
   "version": "3.6.7"
  }
 },
 "nbformat": 4,
 "nbformat_minor": 4
}
