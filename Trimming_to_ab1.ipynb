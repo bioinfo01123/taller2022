{
 "cells": [
  {
   "cell_type": "code",
   "execution_count": null,
   "metadata": {},
   "outputs": [],
   "source": [
    "from IPython.core.display import display, HTML, Javascript\n",
    "display(HTML(\"<style>.container { width:85% !important; }</style>\"))"
   ]
  },
  {
   "cell_type": "markdown",
   "metadata": {},
   "source": [
    "# Trimming de SECUENCIAS en formato ab1\n",
    "Usando el modulo https://pypi.org/project/abifpy/"
   ]
  },
  {
   "cell_type": "code",
   "execution_count": null,
   "metadata": {},
   "outputs": [],
   "source": [
    "import os"
   ]
  },
  {
   "cell_type": "code",
   "execution_count": null,
   "metadata": {},
   "outputs": [],
   "source": [
    "from abifpy import Trace, EXTRACT"
   ]
  },
  {
   "cell_type": "code",
   "execution_count": null,
   "metadata": {
    "scrolled": true
   },
   "outputs": [],
   "source": [
    "ab1 = os.listdir('MACROGEN/')\n",
    "ab1"
   ]
  },
  {
   "cell_type": "code",
   "execution_count": null,
   "metadata": {},
   "outputs": [],
   "source": []
  },
  {
   "cell_type": "code",
   "execution_count": null,
   "metadata": {},
   "outputs": [],
   "source": []
  },
  {
   "cell_type": "markdown",
   "metadata": {},
   "source": [
    "## Trimming: obtención de la secuencia más larga"
   ]
  },
  {
   "cell_type": "code",
   "execution_count": null,
   "metadata": {},
   "outputs": [],
   "source": [
    "import matplotlib.pyplot as plt\n",
    "import numpy as np"
   ]
  },
  {
   "cell_type": "code",
   "execution_count": null,
   "metadata": {},
   "outputs": [],
   "source": [
    "Phred_qual = 30"
   ]
  },
  {
   "cell_type": "code",
   "execution_count": null,
   "metadata": {},
   "outputs": [],
   "source": [
    "no_trim = Trace('MACROGEN/'+ab1[20])"
   ]
  },
  {
   "cell_type": "code",
   "execution_count": null,
   "metadata": {},
   "outputs": [],
   "source": [
    "res = []\n",
    "for e, i in enumerate(no_trim.qual_val):\n",
    "    if i > Phred_qual:\n",
    "        res.append(e)\n",
    "h = []\n",
    "g = []\n",
    "for e, i in enumerate(res):\n",
    "    if i < res[-2]:\n",
    "        if (i + 1) == res[e+1]:\n",
    "            g.append(i)\n",
    "        else:\n",
    "            g = []\n",
    "    h.append(g)"
   ]
  },
  {
   "cell_type": "code",
   "execution_count": null,
   "metadata": {},
   "outputs": [],
   "source": [
    "for i in h:\n",
    "    if len(i) == max([len(i) for i in h]):\n",
    "        V = i\n",
    "        break"
   ]
  },
  {
   "cell_type": "code",
   "execution_count": null,
   "metadata": {},
   "outputs": [],
   "source": [
    "xy1 = []\n",
    "xy2 = []\n",
    "xy3 = []\n",
    "xy4 = []\n",
    "for i, j in enumerate(no_trim.qual_val):\n",
    "    if j > Phred_qual:\n",
    "        xy1.append([i, j])\n",
    "    elif j < 20:\n",
    "        xy2.append([i, j])\n",
    "    else:\n",
    "        xy3.append([i, j])\n",
    "    xy4.append([i, j])"
   ]
  },
  {
   "cell_type": "code",
   "execution_count": null,
   "metadata": {},
   "outputs": [],
   "source": [
    "plt.figure(figsize=(20,5))\n",
    "\n",
    "plt.plot([i[0] for i in xy4], [i[1] for i in xy4],\n",
    "    color = 'gray', linestyle = '-', label='Quality', linewidth = 1, zorder = 0)\n",
    "\n",
    "plt.scatter([i[0] for i in xy1], [i[1] for i in xy1], s=2, c= 'blue', alpha=1, marker = 'o')\n",
    "\n",
    "plt.scatter([i[0] for i in xy2], [i[1] for i in xy2], s=2, c= 'red', alpha=1)\n",
    "\n",
    "plt.scatter([i[0] for i in xy3], [i[1] for i in xy3], s=2, c= 'grey', alpha=1)\n",
    "\n",
    "###################\n",
    "\n",
    "\n",
    "\n",
    "plt.scatter(list(range(V[0], V[-1])), no_trim.qual_val[V[0]:V[-1]], s=10, c= 'black', alpha=1)\n",
    "\n",
    "\n",
    "###################\n",
    "\n",
    "plt.plot(list(range(0, len(no_trim.qual_val))), np.repeat(Phred_qual, len(no_trim.qual_val)),\n",
    "    color = 'red', linestyle = '-', label='Threshold', linewidth = 0.2)\n",
    "\n",
    "plt.fill_between(list(range(0, len(no_trim.qual_val))), np.repeat(20, len(no_trim.qual_val)), color='yellow', alpha = 0.1)\n",
    "\n",
    "plt.xticks(list(range(0, len(no_trim.qual_val), 50)),size=12)\n",
    "plt.xlabel(\"Nucleotide position\", fontsize=12, fontweight='bold')\n",
    "plt.ylabel(\"Phred Quality Values\", fontsize=12, fontweight='bold')\n",
    "plt.legend(loc='upper left', bbox_to_anchor=(1, 1), prop = {'size': 15})\n",
    "\n",
    "print('Length:', len(no_trim.seq[V[0]: V[-1]]), V[0], V[-1])\n",
    "print(no_trim.seq[V[0]: V[-1]])\n",
    "\n",
    "\n",
    "plt.show()"
   ]
  },
  {
   "cell_type": "code",
   "execution_count": null,
   "metadata": {},
   "outputs": [],
   "source": []
  },
  {
   "cell_type": "markdown",
   "metadata": {},
   "source": [
    "## Bucle pasando todas las muestras"
   ]
  },
  {
   "cell_type": "code",
   "execution_count": null,
   "metadata": {},
   "outputs": [],
   "source": [
    "secuencias_recortadas = {}\n",
    "\n",
    "for AB1 in ab1:\n",
    "    print(AB1)\n",
    "    \n",
    "    no_trim = Trace('MACROGEN/'+AB1)\n",
    "    res = []\n",
    "    for e, i in enumerate(no_trim.qual_val):\n",
    "        if i > Phred_qual:\n",
    "            res.append(e)\n",
    "    h = []\n",
    "    g = []\n",
    "    for e, i in enumerate(res):\n",
    "        if i < res[-2]:\n",
    "            if (i + 1) == res[e+1]:\n",
    "                g.append(i)\n",
    "            else:\n",
    "                g = []\n",
    "        h.append(g)\n",
    "    for i in h:\n",
    "        if len(i) == max([len(i) for i in h]):\n",
    "            V = i\n",
    "            break\n",
    "            \n",
    "    if len(V) == 0:\n",
    "        pass\n",
    "    else:\n",
    "    \n",
    "        xy1 = []\n",
    "        xy2 = []\n",
    "        xy3 = []\n",
    "        xy4 = []\n",
    "        for i, j in enumerate(no_trim.qual_val):\n",
    "            if j > Phred_qual:\n",
    "                xy1.append([i, j])\n",
    "            elif j < 20:\n",
    "                xy2.append([i, j])\n",
    "            else:\n",
    "                xy3.append([i, j])\n",
    "            xy4.append([i, j])\n",
    "\n",
    "        plt.figure(figsize=(20,5))\n",
    "\n",
    "        plt.plot([i[0] for i in xy4], [i[1] for i in xy4],\n",
    "            color = 'gray', linestyle = '-', label='Quality', linewidth = 1, zorder = 0)\n",
    "\n",
    "        plt.scatter([i[0] for i in xy1], [i[1] for i in xy1], s=2, c= 'blue', alpha=1, marker = 'o')\n",
    "\n",
    "        plt.scatter([i[0] for i in xy2], [i[1] for i in xy2], s=2, c= 'red', alpha=1)\n",
    "\n",
    "        plt.scatter([i[0] for i in xy3], [i[1] for i in xy3], s=2, c= 'grey', alpha=1)\n",
    "\n",
    "        ###################\n",
    "\n",
    "\n",
    "\n",
    "        plt.scatter(list(range(V[0], V[-1])), no_trim.qual_val[V[0]:V[-1]], s=10, c= 'black', alpha=1)\n",
    "\n",
    "\n",
    "        ###################\n",
    "\n",
    "        plt.plot(list(range(0, len(no_trim.qual_val))), np.repeat(Phred_qual, len(no_trim.qual_val)),\n",
    "            color = 'red', linestyle = '-', label='Threshold', linewidth = 0.2)\n",
    "\n",
    "        plt.fill_between(list(range(0, len(no_trim.qual_val))), np.repeat(20, len(no_trim.qual_val)), color='yellow', alpha = 0.1)\n",
    "\n",
    "        plt.xticks(list(range(0, len(no_trim.qual_val), 50)),size=12)\n",
    "        plt.xlabel(\"Nucleotide position\", fontsize=12, fontweight='bold')\n",
    "        plt.ylabel(\"Phred Quality Values\", fontsize=12, fontweight='bold')\n",
    "        plt.legend(loc='upper left', bbox_to_anchor=(1, 1), prop = {'size': 15})\n",
    "\n",
    "        print('Length:', len(no_trim.seq[V[0]: V[-1]]), V[0], V[-1])\n",
    "        print(no_trim.seq[V[0]: V[-1]])\n",
    "\n",
    "\n",
    "        plt.show()\n",
    "        \n",
    "        secuencias_recortadas[AB1] = no_trim.seq"
   ]
  },
  {
   "cell_type": "code",
   "execution_count": null,
   "metadata": {},
   "outputs": [],
   "source": []
  },
  {
   "cell_type": "code",
   "execution_count": null,
   "metadata": {},
   "outputs": [],
   "source": []
  },
  {
   "cell_type": "code",
   "execution_count": null,
   "metadata": {},
   "outputs": [],
   "source": [
    "secuencias_recortadas"
   ]
  },
  {
   "cell_type": "code",
   "execution_count": null,
   "metadata": {
    "scrolled": true
   },
   "outputs": [],
   "source": [
    "list(secuencias_recortadas.keys())"
   ]
  },
  {
   "cell_type": "code",
   "execution_count": null,
   "metadata": {},
   "outputs": [],
   "source": [
    "secuencia = secuencias_recortadas['180419-022_A23_A6_27F.ab1']\n",
    "secuencia"
   ]
  },
  {
   "cell_type": "code",
   "execution_count": null,
   "metadata": {},
   "outputs": [],
   "source": []
  },
  {
   "cell_type": "code",
   "execution_count": null,
   "metadata": {},
   "outputs": [],
   "source": [
    "url = 'https://blast.ncbi.nlm.nih.gov/Blast.cgi?CMD=Web&LAYOUT=TwoWindows&AUTO_FORMAT=Semiauto&ALIGNMENTS=50&ALIGNMENT_VIEW=Pairwise&CDD_SEARCH=on&CLIENT='\\\n",
    "'web&COMPOSITION_BASED_STATISTICS=on&DATABASE=nr&DESCRIPTIONS=100&ENTREZ_QUERY=(none)&EXPECT=1000&FILTER=L&FORMAT_OBJECT=Alignment&FORMAT_TYPE=HTML&I_THRESH='\\\n",
    "'0.005&MATRIX_NAME=BLOSUM62&NCBI_GI=on&PAGE=Proteins&PROGRAM=blastn&SERVICE=plain&SET_DEFAULTS.x=41&SET_DEFAULTS.y=5&SHOW_OVERVIEW=on&END_OF_HTTPGET='\\\n",
    "'Yes&SHOW_LINKOUT=yes&QUERY='+secuencia\n",
    "webbrowser.open_new_tab(url)"
   ]
  },
  {
   "cell_type": "code",
   "execution_count": null,
   "metadata": {},
   "outputs": [],
   "source": []
  },
  {
   "cell_type": "code",
   "execution_count": null,
   "metadata": {},
   "outputs": [],
   "source": []
  },
  {
   "cell_type": "code",
   "execution_count": null,
   "metadata": {},
   "outputs": [],
   "source": []
  },
  {
   "cell_type": "markdown",
   "metadata": {},
   "source": [
    "## Trimming de SECUENCIAS con parámetros por defecto"
   ]
  },
  {
   "cell_type": "code",
   "execution_count": null,
   "metadata": {},
   "outputs": [],
   "source": [
    "trim = Trace('MACROGEN/'+ab1[20], trimming=True)"
   ]
  },
  {
   "cell_type": "code",
   "execution_count": null,
   "metadata": {},
   "outputs": [],
   "source": [
    "xy1 = []\n",
    "xy2 = []\n",
    "xy3 = []\n",
    "xy4 = []\n",
    "for i, j in enumerate(trim.qual_val):\n",
    "    if j > Phred_qual:\n",
    "        xy1.append([i, j])\n",
    "    elif j < 20:\n",
    "        xy2.append([i, j])\n",
    "    else:\n",
    "        xy3.append([i, j])\n",
    "    xy4.append([i, j])"
   ]
  },
  {
   "cell_type": "code",
   "execution_count": null,
   "metadata": {},
   "outputs": [],
   "source": [
    "plt.figure(figsize=(20,5))\n",
    "\n",
    "plt.plot([i[0] for i in xy4], [i[1] for i in xy4],\n",
    "    color = 'gray', linestyle = '-', label='Quality', linewidth = 1, zorder = 0)\n",
    "\n",
    "plt.scatter([i[0] for i in xy1], [i[1] for i in xy1], s=10, c= 'blue', alpha=1)\n",
    "\n",
    "plt.scatter([i[0] for i in xy2], [i[1] for i in xy2], s=10, c= 'red', alpha=1)\n",
    "\n",
    "plt.scatter([i[0] for i in xy3], [i[1] for i in xy3], s=10, c= 'black', alpha=1)\n",
    "\n",
    "plt.plot(list(range(0, len(trim.qual_val))), np.repeat(Phred_qual, len(trim.qual_val)),\n",
    "    color = 'red', linestyle = '-', label='Threshold', linewidth = 0.2)\n",
    "\n",
    "plt.fill_between(list(range(0, len(trim.qual_val))), np.repeat(20, len(trim.qual_val)), color='yellow', alpha = 0.1)\n",
    "\n",
    "plt.xticks(list(range(0, len(trim.qual_val), 50)),size=12)\n",
    "plt.xlabel(\"Nucleotide position\", fontsize=15, fontweight='bold')\n",
    "plt.ylabel(\"Phred Quality Values\", fontsize=15, fontweight='bold')\n",
    "plt.legend(loc='upper left', bbox_to_anchor=(1, 1), prop = {'size': 15})\n",
    "\n",
    "print('Length:', len(trim.seq))\n",
    "print(trim.seq)\n",
    "\n",
    "\n",
    "plt.show()"
   ]
  },
  {
   "cell_type": "code",
   "execution_count": null,
   "metadata": {},
   "outputs": [],
   "source": []
  },
  {
   "cell_type": "code",
   "execution_count": null,
   "metadata": {},
   "outputs": [],
   "source": []
  },
  {
   "cell_type": "markdown",
   "metadata": {},
   "source": [
    "## Bucle pasando todas las muestras"
   ]
  },
  {
   "cell_type": "code",
   "execution_count": null,
   "metadata": {
    "scrolled": true
   },
   "outputs": [],
   "source": [
    "for AB1 in ab1:\n",
    "    print(AB1)\n",
    "    \n",
    "    trim = Trace('MACROGEN/'+AB1, trimming=True)\n",
    "    \n",
    "    xy1 = []\n",
    "    xy2 = []\n",
    "    xy3 = []\n",
    "    xy4 = []\n",
    "    for i, j in enumerate(trim.qual_val):\n",
    "        if j > Phred_qual:\n",
    "            xy1.append([i, j])\n",
    "        elif j < 20:\n",
    "            xy2.append([i, j])\n",
    "        else:\n",
    "            xy3.append([i, j])\n",
    "        xy4.append([i, j])\n",
    "    \n",
    "    \n",
    "    \n",
    "    plt.figure(figsize=(20,5))\n",
    "\n",
    "    plt.plot([i[0] for i in xy4], [i[1] for i in xy4],\n",
    "        color = 'gray', linestyle = '-', label='Quality', linewidth = 1, zorder = 0)\n",
    "\n",
    "    plt.scatter([i[0] for i in xy1], [i[1] for i in xy1], s=10, c= 'blue', alpha=1)\n",
    "\n",
    "    plt.scatter([i[0] for i in xy2], [i[1] for i in xy2], s=10, c= 'red', alpha=1)\n",
    "\n",
    "    plt.scatter([i[0] for i in xy3], [i[1] for i in xy3], s=10, c= 'black', alpha=1)\n",
    "\n",
    "    plt.plot(list(range(0, len(trim.qual_val))), np.repeat(Phred_qual, len(trim.qual_val)),\n",
    "        color = 'red', linestyle = '-', label='Threshold', linewidth = 0.2)\n",
    "\n",
    "    plt.fill_between(list(range(0, len(trim.qual_val))), np.repeat(20, len(trim.qual_val)), color='yellow', alpha = 0.1)\n",
    "\n",
    "    plt.xticks(list(range(0, len(trim.qual_val), 50)),size=12)\n",
    "    plt.xlabel(\"Nucleotide position\", fontsize=15, fontweight='bold')\n",
    "    plt.ylabel(\"Phred Quality Values\", fontsize=15, fontweight='bold')\n",
    "    plt.legend(loc='upper left', bbox_to_anchor=(1, 1), prop = {'size': 15})\n",
    "\n",
    "    print('Length:', len(trim.seq))\n",
    "    print(trim.seq)\n",
    "\n",
    "\n",
    "    plt.show()"
   ]
  },
  {
   "cell_type": "code",
   "execution_count": null,
   "metadata": {},
   "outputs": [],
   "source": []
  },
  {
   "cell_type": "code",
   "execution_count": null,
   "metadata": {},
   "outputs": [],
   "source": []
  },
  {
   "cell_type": "code",
   "execution_count": null,
   "metadata": {},
   "outputs": [],
   "source": []
  }
 ],
 "metadata": {
  "kernelspec": {
   "display_name": "Python 3",
   "language": "python",
   "name": "python3"
  },
  "language_info": {
   "codemirror_mode": {
    "name": "ipython",
    "version": 3
   },
   "file_extension": ".py",
   "mimetype": "text/x-python",
   "name": "python",
   "nbconvert_exporter": "python",
   "pygments_lexer": "ipython3",
   "version": "3.6.7"
  }
 },
 "nbformat": 4,
 "nbformat_minor": 2
}
